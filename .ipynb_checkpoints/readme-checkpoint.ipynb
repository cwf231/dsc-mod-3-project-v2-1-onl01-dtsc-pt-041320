{
 "cells": [
  {
   "cell_type": "markdown",
   "metadata": {},
   "source": [
    "# *Predicting the Condition of Water Pumps in Tanzania.*\n",
    "\n",
    "Homepage: https://www.drivendata.org/competitions/7/pump-it-up-data-mining-the-water-table/page/23/\n",
    "\n",
    "***\n",
    "There are thousands of water pumps in the country of Tanzania, many of which are an integral part of their area's sustainability. However, many of these pumps are known to be in need of maintenance (or not working entirely). \n",
    "\n",
    "<img src='images/pumping.png'>"
   ]
  },
  {
   "cell_type": "markdown",
   "metadata": {},
   "source": [
    "## Objectives\n",
    "\n",
    "- The goal is to use data on water pumps in Tanzania to predict the condition of the pump.\n",
    "- Using this information, we can make smart, data-driven decisions on how to allocate resources in order to maintain / fix pumps which are most in need.\n",
    "- If successful, the predictions made by these models will be able to improve maintenance operations for these water pumps and significantly improve many people's quality of life.\n",
    "\n",
    "### Success Criteria\n",
    "From the competition website:\n",
    "> **PRIMARY EVALUATION METRIC:**\n",
    "Classification Rate = $\\frac{1}{N}\\sum_{i=0}^{N} (y_i = \\hat{y}_i)$\n",
    "\n",
    "> The metric used for this competition is the classification rate, which calculates the percentage of rows where the predicted class $\\hat{y}$ in the submission matches the actual class, $y$ in the test set. The maximum is 1 and the minimum is 0. The goal is to maximize the classification rate.\n",
    "\n",
    "**The current top score is 0.8294** *(23SEP2020)*\n",
    "- This is the same as the *accuracy score.*\n",
    "- The target variable is **`status_group`**. This is divided into three categories: `['functional', 'functional needs repair', 'non functional']`.\n",
    "- It is an unbalanced dataset (there are far more `functional` water pumps).\n",
    "```\n",
    "functional                 54 %\n",
    "non functional             38 %\n",
    "functional needs repair     7 %\n",
    "```\n",
    "- A baseline model (which always guesses a pump to be `functional`) will have an accuracy score of 0.54. \n",
    "- **A successful model will have a strong accuracy - the ability to correctly identify as many data points as possible.**"
   ]
  },
  {
   "cell_type": "markdown",
   "metadata": {},
   "source": [
    "# The Repo\n",
    "*The repo is divided into two notebooks: **1_processing** and **2_modeling**.*\n",
    "\n",
    "*The outline for the notebooks can be found below, along with insights and some comments throughout.*"
   ]
  },
  {
   "cell_type": "markdown",
   "metadata": {},
   "source": [
    "# PART 1 - PROCESSING"
   ]
  },
  {
   "cell_type": "markdown",
   "metadata": {},
   "source": [
    "## The Data\n",
    "\n",
    "The data has been collected from Taarifa (http://taarifa.org/) and the Tanzanian Ministry of Water. \n",
    "\n",
    "From Taarifa:\n",
    "> *Taarifa is an open source platform for the crowd sourced reporting and triaging of infrastructure related issues. Think of it as a bug tracker for the real world which helps to engage citizens with their local government. We are currently working on an Innovation Project in Tanzania, with various partners.*"
   ]
  },
  {
   "cell_type": "markdown",
   "metadata": {},
   "source": [
    "\n",
    "### `train_test_split()`\n",
    "Even though there is a literal \"*test data*\" provided for the competition, it is unlabeled and can not be used to verify models.\n",
    "\n",
    "We will still need a test-train split."
   ]
  },
  {
   "cell_type": "markdown",
   "metadata": {},
   "source": [
    "## EDA\n",
    "\n",
    "***\n",
    "### Column Descriptions\n",
    "\n",
    "*From https://www.drivendata.org/competitions/7/pump-it-up-data-mining-the-water-table/page/25/*\n",
    "\n",
    "- **amount_tsh** - Total static head (amount water available to waterpoint)\n",
    "- **date_recorded** - The date the row was entered\n",
    "- **funder** - Who funded the well\n",
    "- **gps_height** - Altitude of the well\n",
    "- **installer** - Organization that installed the well\n",
    "- **longitude** - GPS coordinate\n",
    "- **latitude** - GPS coordinate\n",
    "- **wpt_name** - Name of the waterpoint if there is one\n",
    "- **num_private** -\n",
    "- **basin** - Geographic water basin\n",
    "- **subvillage** - Geographic location\n",
    "- **region** - Geographic location\n",
    "- **region_code** - Geographic location (coded)\n",
    "- **district_code** - Geographic location (coded)\n",
    "- **lga** - Geographic location\n",
    "- **ward** - Geographic location\n",
    "- **population** - Population around the well\n",
    "- **public_meeting** - True/False\n",
    "- **recorded_by** - Group entering this row of data\n",
    "- **scheme_management** - Who operates the waterpoint\n",
    "- **scheme_name** - Who operates the waterpoint\n",
    "- **permit** - If the waterpoint is permitted\n",
    "- **construction_year** - Year the waterpoint was constructed\n",
    "- **extraction_type** - The kind of extraction the waterpoint uses\n",
    "- **extraction_type_group** - The kind of extraction the waterpoint uses\n",
    "- **extraction_type_class** - The kind of extraction the waterpoint uses\n",
    "- **management** - How the waterpoint is managed\n",
    "- **management_group** - How the waterpoint is managed\n",
    "- **payment** - What the water costs\n",
    "- **payment_type** - What the water costs\n",
    "- **water_quality** - The quality of the water\n",
    "- **quality_group** - The quality of the water\n",
    "- **quantity** - The quantity of water\n",
    "- **quantity_group** - The quantity of water\n",
    "- **source** - The source of the water\n",
    "- **source_type** - The source of the water\n",
    "- **source_class** - The source of the water\n",
    "- **waterpoint_type** - The kind of waterpoint\n",
    "- **waterpoint_type_group** - The kind of waterpoint\n",
    "\n",
    "***\n",
    "\n",
    "- Most of this is self-explanatory, but I can see there are many redundant columns (eg: source, source_type, source_class). \n",
    "- Going though, we'll try to make intelligent choices when it comes to these categories."
   ]
  },
  {
   "cell_type": "markdown",
   "metadata": {},
   "source": [
    "### Comments\n",
    "\n",
    "***\n",
    "\n",
    "- There are many columns representing **geographical location**. It might be a good idea to compile these columns and thoughtfully select which one/ones are the best predictors.\n",
    "- There are many columns which seem to be **duplicated** or redundant. It would be worthwhile to see if we can join or remove these columns somehow.\n",
    "- There are many more categorical columns than continuous columns."
   ]
  },
  {
   "cell_type": "markdown",
   "metadata": {},
   "source": [
    "## Feature Engineering"
   ]
  },
  {
   "cell_type": "markdown",
   "metadata": {},
   "source": [
    "### Creating columns\n",
    "\n",
    "- Create `years_old` column.\n",
    "- Make categorical column - `amount_tsh` > 0.\n",
    "- Engineer `gps_height` into three binned values.\n",
    "- Engineer column: `installer` == `DWE`."
   ]
  },
  {
   "cell_type": "markdown",
   "metadata": {},
   "source": [
    "### Checking seemingly identical columns\n",
    "- `extraction` vs `extraction_type` vs `extraction_group_type`\n",
    "- `payment` vs `payment_type`\n",
    "- `water_quality` vs `quality_group`\n",
    "- `quantity_group`\n",
    "- `source_type` and `source_class`."
   ]
  },
  {
   "cell_type": "markdown",
   "metadata": {},
   "source": [
    "### Feature Selection with Decision Tree\n",
    "#### Geographic Columns\n",
    "Since there are an unbelievable number of categories in some of these columns, I'm going to utilize a Decision Tree Classifier to choose the most important features from these columns. From these, I will drop the column but keep the most important n-columns.\n",
    "<img src='images/imp_geo_feats.png'>\n",
    "**For example:**\n",
    "<img src='images/example_geo.png'>\n",
    "You can see clearly the difference in distribution of functional water pumps based on whether or not a pump belongs to the region Iringa."
   ]
  },
  {
   "cell_type": "markdown",
   "metadata": {},
   "source": [
    "#### `funder` Column\n",
    "Similarly to the geographical columns which were too numerous to include, there are way too many unique categories for `funder`.\n",
    "<img src='images/imp_fund_feats.png'>\n",
    "<img src='images/example_fund.png'>\n",
    "Over half of pumps funded by the Government of Tanzania are non-functional."
   ]
  },
  {
   "cell_type": "markdown",
   "metadata": {},
   "source": [
    "## Missing Values\n",
    "<img src='images/missing.png'>"
   ]
  },
  {
   "cell_type": "markdown",
   "metadata": {},
   "source": [
    "## Preprocessing with Pipeline\n",
    "### Column Transformer\n",
    "<img src='images/transformer.png'>"
   ]
  },
  {
   "cell_type": "markdown",
   "metadata": {},
   "source": [
    "## Feature Selecting: Identify Constant and Correlated Columns\n",
    "\n",
    "|  | feat1 | feat2 | correlation_coef |  |\n",
    "|-|-|-|-|-|\n",
    "303 |\tgps_height |\taltitude_cat_high_altitude |\t0.925433\n",
    "304 |\tgps_height |\taltitude_cat_low_altitude |\t0.799247\n",
    "4169 |\tlga_Hai |\tfunder_Germany Republi |\t0.981528\n",
    "5841 |\tfunder_Germany | Republi\tlga_Hai |\t0.981528\n",
    "9087 |\tpublic_meeting_False |\tpublic_meeting_True |\t0.751523\n",
    "\n",
    "### Finding groups of correlated features.\n",
    "\n",
    "> **The plan**:\n",
    "- Iterate through each unique feature from the `feat1` column above.\n",
    "- Find all rows where that feature appears.\n",
    "- Use these rows to get a list of features (`feat2`) that are highly correlated with the given feature.\n",
    "- Append all of these features to a list to be sure not to get redundant groups of features.\n",
    "\n",
    "Each group of correlated features will be a dataframe from the above list.\n",
    "\n",
    "**For example:**\n",
    "\n",
    "| | feat1 |\tfeat2 |\tcorrelation_coef | |\n",
    "|-|-|-|-|-|\n",
    "303 |\tgps_height |\taltitude_cat_high_altitude |\t0.925433\n",
    "304 |\tgps_height |\taltitude_cat_low_altitude |\t0.799247\n",
    "\n",
    "Now that we have these groups or correlated features, we want to find out which ones to keep. Keeping all of these features can confuse the importance of certain features when modeling.\n",
    "> **The plan**:\n",
    "- Use a Decision Tree Classifier for each group of correlated features to pick the most important one.\n",
    "- Show all groups of features and their respective importances.\n",
    "\n",
    "**For example:**\n",
    "\n",
    "| | feature |\timportance | |\n",
    "|-|-|-|-|\n",
    "2 |\tgps_height |\t0.999824\n",
    "0 |\taltitude_cat_high_altitude |\t0.000161\n",
    "1 |\taltitude_cat_low_altitude |\t0.000016"
   ]
  },
  {
   "cell_type": "markdown",
   "metadata": {},
   "source": [
    "## Dump `num_feature_names` & `cat_feature_names`\n",
    "Saving feature names for the next notebook."
   ]
  },
  {
   "cell_type": "markdown",
   "metadata": {},
   "source": [
    "## Encoding Target\n",
    "Using LabelEncoder."
   ]
  },
  {
   "cell_type": "markdown",
   "metadata": {},
   "source": [
    "## Set `id` back for unlabeled data.\n",
    "Saving `id` for the competition dataset."
   ]
  },
  {
   "cell_type": "markdown",
   "metadata": {},
   "source": [
    "## Writing Processed Data\n",
    "Saving dataframes."
   ]
  },
  {
   "cell_type": "markdown",
   "metadata": {},
   "source": [
    "## Writing Preprocessing Pipeline / LabelEncoder\n",
    "Saving Pipeline and LabelEncoder."
   ]
  },
  {
   "cell_type": "markdown",
   "metadata": {},
   "source": [
    "# PART 2 - MODELING"
   ]
  },
  {
   "cell_type": "markdown",
   "metadata": {},
   "source": [
    "## Modeling Goals\n",
    "- The aim of the competition is a plain `accuracy_score` for unlabeled data.\n",
    "- From a financial perspective, the allocation of maintenance resources is vital, therefore correctly labeling the pumps which are *functional needs repair* and *non functional* can be considered the most important."
   ]
  },
  {
   "cell_type": "markdown",
   "metadata": {},
   "source": [
    "### Reload Data\n",
    "Reload from processing notebook."
   ]
  },
  {
   "cell_type": "markdown",
   "metadata": {},
   "source": [
    "## Modeling\n",
    "In this notebook, we will be using a dummy-classifier and three predictive models.\n",
    "- Random Forest Classifier\n",
    "- K-Nearest Neighbors\n",
    "- XGBoost Classifier"
   ]
  },
  {
   "cell_type": "markdown",
   "metadata": {},
   "source": [
    "### Baseline - Dummy Classifier"
   ]
  },
  {
   "cell_type": "markdown",
   "metadata": {},
   "source": [
    "### Random Forest Classifier\n",
    "#### Vanilla Model\n",
    "```python\n",
    "\"\"\"\n",
    "************************************************************************\n",
    "*        Vanilla Random Forest Classifier Classification Report        *\n",
    "************************************************************************\n",
    "                         precision    recall  f1-score   support\n",
    "\n",
    "             functional       0.81      0.88      0.85      8065\n",
    "functional needs repair       0.53      0.35      0.42      1079\n",
    "         non functional       0.84      0.78      0.81      5706\n",
    "\n",
    "               accuracy                           0.81     14850\n",
    "              macro avg       0.73      0.67      0.69     14850\n",
    "           weighted avg       0.80      0.81      0.80     14850\n",
    "\"\"\"\n",
    "```\n",
    "<img src='images/vanilla_forest.png'>\n",
    "Having a vanilla Random Forest score `0.81` accuracy is pretty impressive.\n",
    "<img src='images/forest_feat_imp.png'>"
   ]
  },
  {
   "cell_type": "markdown",
   "metadata": {},
   "source": [
    "#### Forest GridSearch\n",
    "For each model type, we will try to tune some parameters to optimize for different metrics.\n",
    "<img src='images/forest_comparison.png'>\n",
    "The model optimized for accuracy is very good with a 0.809 `accuracy`, however it leaves some to be desired with its low `recall_macro`.\n",
    "> Recall with a **macro-weight** is a harsher metric than \"weighted\" because it finds a balance between the categories equally, rather than making it more important to correctly identify the more-common categories."
   ]
  },
  {
   "cell_type": "markdown",
   "metadata": {},
   "source": [
    "### K-Neighbors Classifier"
   ]
  },
  {
   "cell_type": "markdown",
   "metadata": {},
   "source": [
    "#### Vanilla Model\n",
    "```python\n",
    "\"\"\"\n",
    "******************************************************\n",
    "*        KNN Classifier Classification Report        *\n",
    "******************************************************\n",
    "                         precision    recall  f1-score   support\n",
    "\n",
    "             functional       0.77      0.86      0.81      8065\n",
    "functional needs repair       0.48      0.31      0.38      1079\n",
    "         non functional       0.79      0.71      0.75      5706\n",
    "\n",
    "               accuracy                           0.76     14850\n",
    "              macro avg       0.68      0.63      0.65     14850\n",
    "           weighted avg       0.76      0.76      0.76     14850\n",
    "\"\"\"\n",
    "```\n",
    "<img src='images/vanilla_knn.png'>"
   ]
  },
  {
   "cell_type": "markdown",
   "metadata": {},
   "source": [
    "#### KNN GridSearch\n",
    "<img src='images/knn_comparison.png'>\n",
    "These models aren't showing as much accuracy as the Random Forests, nor do they seem to be better at finding the minority class `functional needs repair`."
   ]
  },
  {
   "cell_type": "markdown",
   "metadata": {},
   "source": [
    "### XGBoost"
   ]
  },
  {
   "cell_type": "markdown",
   "metadata": {},
   "source": [
    "#### Vanilla Model\n",
    "```python\n",
    "\"\"\"\n",
    "*************************************************************\n",
    "*        Vanilla XGBClassifier Classification Report        *\n",
    "*************************************************************\n",
    "                         precision    recall  f1-score   support\n",
    "\n",
    "             functional       0.72      0.93      0.81      8065\n",
    "functional needs repair       0.62      0.12      0.21      1079\n",
    "         non functional       0.84      0.61      0.71      5706\n",
    "\n",
    "               accuracy                           0.75     14850\n",
    "              macro avg       0.73      0.56      0.57     14850\n",
    "           weighted avg       0.76      0.75      0.73     14850\n",
    "\"\"\"\n",
    "```\n",
    "<img src='images/vanilla_xgb.png'>"
   ]
  },
  {
   "cell_type": "markdown",
   "metadata": {},
   "source": [
    "#### XGB GridSearch\n",
    "<img src='images/xgb_comparison.png'>\n",
    "The XGB models are tending to prioritize over-guessing the most common target variable - `functional`."
   ]
  },
  {
   "cell_type": "markdown",
   "metadata": {},
   "source": [
    "## Class Imbalance: SMOTE-NC\n",
    "There are certainly some decent results, but a more balanced training set might help the models predict the minority classes.\n",
    "\n",
    "- **SMOTENC** is a version of *SMOTE* which can handle one-hot-encoded columns by indicating which columns to treat as categorical.\n",
    "- It will then create new data points (synthetically) to train on with hopes to get better modeling results.\n",
    "\n",
    "```python\n",
    "\"\"\"\n",
    "*********************************************\n",
    "*        Original Class Distribution        *\n",
    "*********************************************\n",
    "0    0.543075\n",
    "2    0.384242\n",
    "1    0.072682\n",
    "Name: status_group, dtype: float64\n",
    "****************************************\n",
    "*        Resampled Distribution        *\n",
    "****************************************\n",
    "2    0.333333\n",
    "1    0.333333\n",
    "0    0.333333\n",
    "Name: status_group, dtype: float64\n",
    "\"\"\"\n",
    "```\n",
    "### Fit re-sampled data.\n",
    "In some ways, these models are performing much better than with the unbalanced training data.\n",
    "- They are predicting the minority class *much* more accurately.\n",
    "- The f1-macro score has increased.\n",
    "\n",
    "However, their accuracy has diminished due in large part to the number of the majority class (*functional*) which are being mislabeled.\n",
    "\n",
    "***\n",
    "\n",
    "Finally, I'm going to try an ensemble with these three classifiers with the SMOTE data to improve the final predictions."
   ]
  },
  {
   "cell_type": "markdown",
   "metadata": {},
   "source": [
    "## Creating an Ensemble\n",
    "### Train Separately on Resampled Data and Original Data\n",
    "These are two very interesting models.\n",
    "***\n",
    "**Original Training Data Model**\n",
    "- On one hand, we have a model which has a higher overall accuracy (0.81).\n",
    "- **0.9 recall** for functional water pumps, **0.77 recall** for non-functional pumps.\n",
    "- The drawback is that more functional needs repair pumps are mislabeled than labeled correctly.\n",
    "\n",
    "**Resampled Training Data Model**\n",
    "- The first point to note is the \n",
    "- The accuracy is lower (**0.78**), but non functional recall is improved slightly (from 0.77 to **0.79**)\n",
    "- This model would be good if you especially wanted to try and catch a water pump before it became non functional if it were cheaper to repair it.improvement in the minority class functional needs repair."
   ]
  },
  {
   "cell_type": "markdown",
   "metadata": {},
   "source": [
    "## Results\n",
    "### REAL_TEST predictions\n",
    "**Random Forest - Original Sampling**\n",
    "<img src='rfc_results.png'>\n",
    "**Ensemble - Original Sampling Method**\n",
    "<img src='original_sample_results.png'>\n",
    "**Ensemble - Post-SMOTE-NC Sampling**\n",
    "<img src='resampled_results.png'>"
   ]
  },
  {
   "cell_type": "markdown",
   "metadata": {},
   "source": [
    "## Conclusion & Final Model\n",
    "\n",
    "While the Ensemble Classifier improved performance by 3%, the computational cost of training the three different classifiers and retrieving their predictions is very large.\n",
    "Therefore, if I were to deploy a model, I would pick the **Random Forest Classifier**.\n",
    "\n",
    "The Random Forest has the added benefits of being highly interpretable, very robust to noise and outliers, and is prone not to overfit. \n",
    "\n",
    "```python\n",
    "RandomForestClassifier(bootstrap=False, \n",
    "                       criterion='entropy', \n",
    "                       min_samples_leaf=3, \n",
    "                       random_state=51)\n",
    "```"
   ]
  },
  {
   "cell_type": "markdown",
   "metadata": {},
   "source": [
    "### Metrics\n",
    "#### Full\n",
    "```python\n",
    "\"\"\"\n",
    "*********************************************************\n",
    "*        Final Model - RFC Classification Report        *\n",
    "*********************************************************\n",
    "                         precision    recall  f1-score   support\n",
    "\n",
    "             functional       0.79      0.93      0.85      8065\n",
    "functional needs repair       0.69      0.25      0.37      1079\n",
    "         non functional       0.86      0.75      0.80      5706\n",
    "\n",
    "               accuracy                           0.81     14850\n",
    "              macro avg       0.78      0.64      0.67     14850\n",
    "           weighted avg       0.81      0.81      0.80     14850\n",
    "\"\"\"\n",
    "```\n",
    "**Precision-Normalization**\n",
    "<img src='images/final_confusion.png'>\n",
    "\n",
    "- Out of the predicted values, 11% of non-functional wells were mislabeled as functional, while 18% of wells needing repair were functional.\n",
    "- If the model predicted a functional well, it was correct 79% of the time."
   ]
  },
  {
   "cell_type": "markdown",
   "metadata": {},
   "source": [
    "#### Binary\n",
    "```python\n",
    "\"\"\"\n",
    "                             precision    recall  f1-score   support\n",
    "\n",
    "                 functional       0.79      0.93      0.85      8065\n",
    "needs_repair/non_functional       0.89      0.70      0.78      6785\n",
    "\n",
    "                   accuracy                           0.82     14850\n",
    "                  macro avg       0.84      0.81      0.82     14850\n",
    "               weighted avg       0.83      0.82      0.82     14850\n",
    "\"\"\"\n",
    "```\n",
    "\n",
    "| | functional |\tneeds_repair/non_functional | |\n",
    "|-|-|-|-|\n",
    "functional |\t7473 |\t592\n",
    "needs_repair/non_functional |\t2044 |\t4741"
   ]
  },
  {
   "cell_type": "markdown",
   "metadata": {},
   "source": [
    "- When predicting wells that are not `class_0` (not **functional**), it is correct 88.9% of the time.\n",
    " - *(Precision score for `needs_repair/non_functional`)*\n",
    "- The model is clearly very reliable when asked to find non-functioning wells.\n",
    "- **Using this model to drive maintenance plans will reduce the number of `non-functional` / `needs repairs` wells by 69.875%.**\n",
    " - $\\frac{correctly identified}{total existing}$"
   ]
  },
  {
   "cell_type": "markdown",
   "metadata": {},
   "source": [
    "### Trees"
   ]
  },
  {
   "cell_type": "markdown",
   "metadata": {},
   "source": [
    "- The `RandomForestClassifier` is an ensemble of n-`DecisionTreeClassifier`s. This model has the default 100 Decision Trees.\n",
    "- Each tree is fit on a different subset of the training data and therefore has different *opinions* on determining the classification. These trees vote and the Forest uses all of its trees to pick a classification.\n",
    "- Because of this, we can look \"under the hood\" at these trees and how they work.\n",
    "<img src='images/trees_example.png'>"
   ]
  },
  {
   "cell_type": "markdown",
   "metadata": {},
   "source": [
    "- Orange: `functional`\n",
    "- Green: `functional needs repair`\n",
    "- Purple: `non functional`\n",
    "***\n",
    "- Each tree above is showing the first three splits for space, but will split down until there are 3 entries per \"leaf\" which will then determine the classification.\n",
    "- `Tree_0` uses `quantity_enough` to split into a group where (on the left) 52% of entries are `non functional` and (on the right) 65% of entries are `functional`.\n",
    " - ...and so on..."
   ]
  },
  {
   "cell_type": "markdown",
   "metadata": {},
   "source": [
    "#### Feature Importances\n",
    "<img src='images/trees_imps.png'>"
   ]
  },
  {
   "cell_type": "markdown",
   "metadata": {},
   "source": [
    "- As you can see the feature importances of these two trees are massively different.\n",
    "- The trees share an opinion of the relative importance of the `latitude`, `longitude`, and `gps_height` columns."
   ]
  },
  {
   "cell_type": "markdown",
   "metadata": {},
   "source": [
    "### Forest Feature Importances\n",
    "<img src='images/forest_imps.png'>"
   ]
  },
  {
   "cell_type": "markdown",
   "metadata": {},
   "source": [
    "- The full Forest has feature importances based on its 100 estimators (trees).\n",
    " - You can see by inspecting the features listed that the Forest is similar to both trees above.\n",
    "- The overall most important feature according to this Forest is `quantity` - namely whether or not the well is dry.\n",
    " - Presumably, dry wells are overwhelmingly non-functional / needing repair."
   ]
  },
  {
   "cell_type": "markdown",
   "metadata": {},
   "source": [
    "# Conclusion\n",
    "## What do I look for to tell if a water pump needs maintenance?"
   ]
  },
  {
   "cell_type": "markdown",
   "metadata": {},
   "source": [
    "1. **Quantity**: Pay attention to the quantity of water in the well.\n",
    " - Wells that are labeled as **dry** are almost all *non functional*.\n",
    " - Conversely, less than 25% of wells that have **enough** water are *non functional*.\n",
    " - Note: The missing values for this feature are not missing at random (ie: when the label is **unknown**, it is much more likely to be *non functional*).\n",
    "- **Latitude / Longitude**: While there are functional and non functional wells spread over the country, there do seem to be \"pockets\" of non-functional wells. This could be due to the water source or other geographical features of an area.\n",
    " - If there is a pocket of *non functional* wells in an area, other wells in the same area might be *non functional* as well.\n",
    "- **Years Old**: Determining the year the well was built and how old it is is a major factor to whether it's working or not.\n",
    " - The older a well is, the less likely it is *functional*.\n",
    " - New wells are very likely to be *functional*.\n",
    " - Wells built before **1990** are more likely to be *non functional* or *needing repair*, while after 1990 are more likely to be *functional*.\n",
    "- **Extraction Type**: Determining the extraction type will help get very useful information on whether the pump is working.\n",
    " - **Gravity** pumps (the most common) are 60% likely to be *functional* and 25% to be *non functional*.\n",
    " - The most common type or well to have more *non functional* wells than *functional* is **mono**. These have over a 60% chance to be at least *in need of repair*.\n",
    " - Note: Wells that are labeled **other** have a much higher likelihood of being *non functional* than otherwise.\n",
    "- **Waterpoint Type**: Certain waterpoint types have a strong predictive quality.\n",
    " - The most common **communal standpipe** is over 60% likely to be *functional* and 25% to be *non functional*.\n",
    " - Having a **communal standpipe multiple** though increases the likelihood of the pump being *non functional* quite a lot.\n",
    " - If the waterpoint type is less common (marked **other**), it is almost certainly (over 80%) *non functional*.\n",
    " - It seems that **improved spring** wells are the most likely to need repairs (these waterpoint types may require more frequent maintenance than others).\n",
    "- **Amount Total Static Head**: Most wells have 0 total static head (available static water). Wells that have more than 0 **tsh** are much more likely to be *functional*.\n",
    " - As a general principal, the greater the **tsh**, the more likely it is to be *functional*."
   ]
  }
 ],
 "metadata": {
  "kernelspec": {
   "display_name": "Python 3",
   "language": "python",
   "name": "python3"
  },
  "language_info": {
   "codemirror_mode": {
    "name": "ipython",
    "version": 3
   },
   "file_extension": ".py",
   "mimetype": "text/x-python",
   "name": "python",
   "nbconvert_exporter": "python",
   "pygments_lexer": "ipython3",
   "version": "3.6.9"
  },
  "toc": {
   "base_numbering": 1,
   "nav_menu": {},
   "number_sections": true,
   "sideBar": true,
   "skip_h1_title": false,
   "title_cell": "Table of Contents",
   "title_sidebar": "Contents",
   "toc_cell": false,
   "toc_position": {
    "height": "calc(100% - 180px)",
    "left": "10px",
    "top": "150px",
    "width": "165px"
   },
   "toc_section_display": true,
   "toc_window_display": true
  }
 },
 "nbformat": 4,
 "nbformat_minor": 2
}
